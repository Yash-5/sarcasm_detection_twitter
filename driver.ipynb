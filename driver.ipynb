{
 "cells": [
  {
   "cell_type": "code",
   "execution_count": 4,
   "metadata": {
    "collapsed": false
   },
   "outputs": [],
   "source": [
    "import sys \n",
    "from string import ascii_lowercase \n",
    "import codecs\n",
    "\n",
    "import string\n",
    "import re\n",
    "from nltk.corpus import stopwords\n",
    "from nltk.stem.snowball import SnowballStemmer\n",
    "from nltk import word_tokenize\n",
    "from nltk import pos_tag\n",
    "from nltk import FreqDist\n",
    "from sklearn import svm\n",
    "import os\n",
    "import csv\n",
    "\n",
    "sys.path.append(\"./utils\")\n",
    "from valence_utils import build_valence\n",
    "import feature1\n",
    "import feature3\n",
    "import feature4\n",
    "import feature5"
   ]
  },
  {
   "cell_type": "code",
   "execution_count": 3,
   "metadata": {
    "collapsed": true
   },
   "outputs": [],
   "source": [
    "# affectdict is for affect scores\n",
    "# sentidict is for sentiscores\n",
    "# bidict and tridict for bigrams' and trigrams' score\n",
    "stopwords = set(stopwords.words('english'))\n",
    "affectdict ={}\n",
    "sentidict={}\n",
    "bidict={}\n",
    "tridict={}"
   ]
  },
  {
   "cell_type": "code",
   "execution_count": 6,
   "metadata": {
    "collapsed": false
   },
   "outputs": [],
   "source": [
    "def init_dicts():\n",
    "    global affectdict\n",
    "    global bidict\n",
    "    global tridict\n",
    "    affectdict = build_valence()"
   ]
  },
  {
   "cell_type": "code",
   "execution_count": null,
   "metadata": {
    "collapsed": true
   },
   "outputs": [],
   "source": [
    "def getFeatures(tweet ,past_data):\n",
    "    features = []\n",
    "    features.extend(contrastingFeatures(tweet,affectdict, sentidict, bidict, tridict))\n",
    "    features.extend(affectSentiment(tweet, affectdict, sentidict))\n",
    "    features.extend(familiarityLanguage(tweet, past_data))\n",
    "    features.extend(structuralVariations(tweet,affectdict,sentidict))"
   ]
  }
 ],
 "metadata": {
  "kernelspec": {
   "display_name": "Python 3",
   "language": "python",
   "name": "python3"
  },
  "language_info": {
   "codemirror_mode": {
    "name": "ipython",
    "version": 3
   },
   "file_extension": ".py",
   "mimetype": "text/x-python",
   "name": "python",
   "nbconvert_exporter": "python",
   "pygments_lexer": "ipython3",
   "version": "3.6.1"
  }
 },
 "nbformat": 4,
 "nbformat_minor": 2
}
